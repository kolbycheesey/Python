{
 "cells": [
  {
   "cell_type": "code",
   "execution_count": 1,
   "metadata": {},
   "outputs": [],
   "source": [
    "import tensorflow as tf\n",
    "import matplotlib.pyplot as plt\n",
    "import numpy as np"
   ]
  },
  {
   "cell_type": "code",
   "execution_count": 6,
   "metadata": {},
   "outputs": [],
   "source": [
    "m = 2\n",
    "b = 0.5\n",
    "x = np.linspace(0,4,100)\n",
    "y = m * x + b + np.random.randn(*x.shape) + 0.25"
   ]
  },
  {
   "cell_type": "code",
   "execution_count": 7,
   "metadata": {},
   "outputs": [
    {
     "data": {
      "text/plain": [
       "<matplotlib.collections.PathCollection at 0x642970d50>"
      ]
     },
     "execution_count": 7,
     "metadata": {},
     "output_type": "execute_result"
    },
    {
     "data": {
      "image/png": "[encoded data removed]",
      "text/plain": [
       "<Figure size 432x288 with 1 Axes>"
      ]
     },
     "metadata": {
      "needs_background": "light"
     },
     "output_type": "display_data"
    }
   ],
   "source": [
    "plt.scatter(x,y)"
   ]
  },
  {
   "cell_type": "code",
   "execution_count": 8,
   "metadata": {},
   "outputs": [],
   "source": [
    "class Model:\n",
    "    def __init__(self):\n",
    "        self.weight = tf.Variable(10.0)\n",
    "        self.bias = tf.Variable(10.0)\n",
    "        \n",
    "    def __call__(self, x):\n",
    "        return self.weight * x + self.bias\n",
    "    \n",
    "# model = Model()\n",
    "# model(5.0)\n",
    "#     self.weight.assign_sub(15.0)"
   ]
  },
  {
   "cell_type": "code",
   "execution_count": 9,
   "metadata": {},
   "outputs": [],
   "source": [
    "def calculate_loss(y_actual, y_output):\n",
    "    return tf.reduce_mean(tf.square(y_actual - y_output))"
   ]
  },
  {
   "cell_type": "code",
   "execution_count": 12,
   "metadata": {},
   "outputs": [],
   "source": [
    "def train(model, x, y, learning_rate):\n",
    "    with tf.GradientTape() as gt:\n",
    "        y_output = model(x)\n",
    "        loss = calculate_loss(y, y_output)\n",
    "        \n",
    "    new_weight, new_bias = gt.gradient(loss, [model.weight, model.bias])\n",
    "    model.weight.assign_sub(new_weight * learning_rate)\n",
    "    model.bias.assign_sub(new_bias * learning_rate)"
   ]
  },
  {
   "cell_type": "code",
   "execution_count": 13,
   "metadata": {},
   "outputs": [
    {
     "name": "stdout",
     "output_type": "stream",
     "text": [
      "Epoch: 0, loss: 727.5269775390625\n",
      "Epoch: 1, loss: 516.6013793945312\n",
      "Epoch: 2, loss: 367.0762634277344\n",
      "Epoch: 3, loss: 261.0573425292969\n",
      "Epoch: 4, loss: 185.86801147460938\n",
      "Epoch: 5, loss: 132.5274200439453\n",
      "Epoch: 6, loss: 94.67318725585938\n",
      "Epoch: 7, loss: 67.7972183227539\n",
      "Epoch: 8, loss: 48.70539093017578\n",
      "Epoch: 9, loss: 35.13418960571289\n",
      "Epoch: 10, loss: 25.479476928710938\n",
      "Epoch: 11, loss: 18.604225158691406\n",
      "Epoch: 12, loss: 13.70238971710205\n",
      "Epoch: 13, loss: 10.202457427978516\n",
      "Epoch: 14, loss: 7.699080944061279\n",
      "Epoch: 15, loss: 5.904695987701416\n",
      "Epoch: 16, loss: 4.615217685699463\n",
      "Epoch: 17, loss: 3.685746431350708\n",
      "Epoch: 18, loss: 3.013338327407837\n",
      "Epoch: 19, loss: 2.524817705154419\n",
      "Epoch: 20, loss: 2.168118715286255\n",
      "Epoch: 21, loss: 1.9061613082885742\n",
      "Epoch: 22, loss: 1.71250581741333\n",
      "Epoch: 23, loss: 1.5682705640792847\n",
      "Epoch: 24, loss: 1.4599491357803345\n",
      "Epoch: 25, loss: 1.3778561353683472\n",
      "Epoch: 26, loss: 1.3150314092636108\n",
      "Epoch: 27, loss: 1.2664554119110107\n",
      "Epoch: 28, loss: 1.2284960746765137\n",
      "Epoch: 29, loss: 1.1985129117965698\n",
      "Epoch: 30, loss: 1.1745774745941162\n",
      "Epoch: 31, loss: 1.1552722454071045\n",
      "Epoch: 32, loss: 1.1395491361618042\n",
      "Epoch: 33, loss: 1.1266264915466309\n",
      "Epoch: 34, loss: 1.1159170866012573\n",
      "Epoch: 35, loss: 1.1069751977920532\n",
      "Epoch: 36, loss: 1.0994596481323242\n",
      "Epoch: 37, loss: 1.0931063890457153\n",
      "Epoch: 38, loss: 1.087708592414856\n",
      "Epoch: 39, loss: 1.0831031799316406\n",
      "Epoch: 40, loss: 1.0791592597961426\n",
      "Epoch: 41, loss: 1.0757718086242676\n",
      "Epoch: 42, loss: 1.0728546380996704\n",
      "Epoch: 43, loss: 1.0703372955322266\n",
      "Epoch: 44, loss: 1.0681610107421875\n",
      "Epoch: 45, loss: 1.0662769079208374\n",
      "Epoch: 46, loss: 1.0646437406539917\n",
      "Epoch: 47, loss: 1.0632268190383911\n",
      "Epoch: 48, loss: 1.061996340751648\n",
      "Epoch: 49, loss: 1.060927152633667\n",
      "Epoch: 50, loss: 1.05999755859375\n",
      "Epoch: 51, loss: 1.0591892004013062\n",
      "Epoch: 52, loss: 1.058485746383667\n",
      "Epoch: 53, loss: 1.0578734874725342\n",
      "Epoch: 54, loss: 1.057340383529663\n",
      "Epoch: 55, loss: 1.056876301765442\n",
      "Epoch: 56, loss: 1.0564721822738647\n",
      "Epoch: 57, loss: 1.0561201572418213\n",
      "Epoch: 58, loss: 1.0558136701583862\n",
      "Epoch: 59, loss: 1.055546522140503\n",
      "Epoch: 60, loss: 1.0553137063980103\n",
      "Epoch: 61, loss: 1.055111050605774\n",
      "Epoch: 62, loss: 1.0549342632293701\n",
      "Epoch: 63, loss: 1.0547804832458496\n",
      "Epoch: 64, loss: 1.054646372795105\n",
      "Epoch: 65, loss: 1.0545294284820557\n",
      "Epoch: 66, loss: 1.0544277429580688\n",
      "Epoch: 67, loss: 1.0543389320373535\n",
      "Epoch: 68, loss: 1.0542614459991455\n",
      "Epoch: 69, loss: 1.0541940927505493\n",
      "Epoch: 70, loss: 1.0541354417800903\n",
      "Epoch: 71, loss: 1.0540841817855835\n",
      "Epoch: 72, loss: 1.054039716720581\n",
      "Epoch: 73, loss: 1.0540008544921875\n",
      "Epoch: 74, loss: 1.053966999053955\n",
      "Epoch: 75, loss: 1.0539374351501465\n",
      "Epoch: 76, loss: 1.0539116859436035\n",
      "Epoch: 77, loss: 1.053889274597168\n",
      "Epoch: 78, loss: 1.0538697242736816\n",
      "Epoch: 79, loss: 1.0538526773452759\n",
      "Epoch: 80, loss: 1.0538380146026611\n",
      "Epoch: 81, loss: 1.0538250207901\n",
      "Epoch: 82, loss: 1.0538138151168823\n",
      "Epoch: 83, loss: 1.0538039207458496\n",
      "Epoch: 84, loss: 1.053795337677002\n",
      "Epoch: 85, loss: 1.0537879467010498\n",
      "Epoch: 86, loss: 1.0537813901901245\n",
      "Epoch: 87, loss: 1.0537757873535156\n",
      "Epoch: 88, loss: 1.0537707805633545\n",
      "Epoch: 89, loss: 1.0537666082382202\n",
      "Epoch: 90, loss: 1.0537627935409546\n",
      "Epoch: 91, loss: 1.0537594556808472\n",
      "Epoch: 92, loss: 1.0537567138671875\n",
      "Epoch: 93, loss: 1.0537540912628174\n",
      "Epoch: 94, loss: 1.0537519454956055\n",
      "Epoch: 95, loss: 1.0537500381469727\n",
      "Epoch: 96, loss: 1.0537484884262085\n",
      "Epoch: 97, loss: 1.0537470579147339\n",
      "Epoch: 98, loss: 1.0537457466125488\n",
      "Epoch: 99, loss: 1.0537447929382324\n"
     ]
    }
   ],
   "source": [
    "model = Model()\n",
    "epochs = 100\n",
    "learning_rate = 0.15\n",
    "for epoch in range(epochs):\n",
    "    y_output = model(x)\n",
    "    loss = calculate_loss(y, y_output)\n",
    "    print(f\"Epoch: {epoch}, loss: {loss.numpy()}\")\n",
    "    train(model, x, y, learning_rate)"
   ]
  },
  {
   "cell_type": "code",
   "execution_count": 14,
   "metadata": {},
   "outputs": [
    {
     "name": "stdout",
     "output_type": "stream",
     "text": [
      "1.7993574\n",
      "1.2024386\n"
     ]
    }
   ],
   "source": [
    "print(model.weight.numpy())\n",
    "print(model.bias.numpy())"
   ]
  },
  {
   "cell_type": "code",
   "execution_count": 16,
   "metadata": {},
   "outputs": [
    {
     "data": {
      "text/plain": [
       "<matplotlib.collections.PathCollection at 0x642c1add0>"
      ]
     },
     "execution_count": 16,
     "metadata": {},
     "output_type": "execute_result"
    },
    {
     "data": {
      "image/png": "[encoded data removed]",
      "text/plain": [
       "<Figure size 432x288 with 1 Axes>"
      ]
     },
     "metadata": {
      "needs_background": "light"
     },
     "output_type": "display_data"
    }
   ],
   "source": [
    "new_x = np.linspace(0,4,50)\n",
    "new_y = model.weight.numpy() * new_x + model.bias.numpy()\n",
    "plt.scatter(new_x,new_y)\n",
    "plt.scatter(x,y)"
   ]
  },
  {
   "cell_type": "code",
   "execution_count": null,
   "metadata": {},
   "outputs": [],
   "source": []
  }
 ],
 "metadata": {
  "kernelspec": {
   "display_name": "Python 3 (ipykernel)",
   "language": "python",
   "name": "python3"
  },
  "language_info": {
   "codemirror_mode": {
    "name": "ipython",
    "version": 3
   },
   "file_extension": ".py",
   "mimetype": "text/x-python",
   "name": "python",
   "nbconvert_exporter": "python",
   "pygments_lexer": "ipython3",
   "version": "3.11.5"
  }
 },
 "nbformat": 4,
 "nbformat_minor": 2
}
