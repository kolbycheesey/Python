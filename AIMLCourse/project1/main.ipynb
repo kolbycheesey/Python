{
 "cells": [
  {
   "cell_type": "code",
   "execution_count": 1,
   "metadata": {},
   "outputs": [],
   "source": [
    "from carrental import CarRental, Customer"
   ]
  },
  {
   "cell_type": "code",
   "execution_count": 2,
   "metadata": {},
   "outputs": [],
   "source": [
    "def main():\n",
    "    store = CarRental(100)\n",
    "    cust = Customer(\"Carl\")\n",
    "    \n",
    "    while True:\n",
    "        print(\"\"\"\n",
    "        *************************************************\n",
    "        1. Show available number of cars in store\n",
    "        2. Rent a Car on hourly basis for $20/hr\n",
    "        3. Rent a Car on daily basis for $100/day\n",
    "        4. Rent a Car on weekly basis for $750/week\n",
    "        5. Return a rented Car back.\n",
    "        6. Exit\n",
    "        *************************************************\n",
    "        \"\"\")\n",
    "        \n",
    "        option = int(input(\"\\nPlease select and option\\n\"))\n",
    "        \n",
    "        if option == 1:\n",
    "            store.displaystock()\n",
    "        \n",
    "        elif option == 2:\n",
    "            numC = int(input(\"\\nHow many cars would you like to rent?\\n\"))\n",
    "            if store.rent_hourly(numC):\n",
    "                cust.num_cars = numC\n",
    "            print(f\"Customer: {cust.name}, is renting {numC} cars on an hourly basis at {store.rate}\")\n",
    "            \n",
    "        elif option == 3:\n",
    "            numC = int(input(\"\\nHow many cars would you like to rent?\\n\"))\n",
    "            if store.rent_daily(numC):\n",
    "                cust.num_cars = numC\n",
    "            print(f\"Customer: {cust.name}, is renting {numC} cars on a daily basis at {store.rate}\")\n",
    "            \n",
    "        elif option == 4:\n",
    "            numC = int(input(\"\\nHow many cars would you like to rent?\\n\"))\n",
    "            if store.rent_weekly(numC):\n",
    "                cust.num_cars = numC\n",
    "            print(f\"Customer: {cust.name}, is renting {numC} cars on a weekly basis at {store.rate}\")\n",
    "            \n",
    "        elif option == 5:\n",
    "            if store.returncar(cust.num_cars):\n",
    "                cust.car_return(cust.num_cars)\n",
    "                \n",
    "        else:\n",
    "            print(\"\\nThank you come again\\n\")\n",
    "            exit()"
   ]
  },
  {
   "cell_type": "code",
   "execution_count": null,
   "metadata": {},
   "outputs": [],
   "source": [
    "\n",
    "if __name__ == '__main__':\n",
    "    print(\"\\nWelcome to the car rental place\\n\")\n",
    "    main()"
   ]
  }
 ],
 "metadata": {
  "kernelspec": {
   "display_name": "Python 3",
   "language": "python",
   "name": "python3"
  },
  "language_info": {
   "codemirror_mode": {
    "name": "ipython",
    "version": 3
   },
   "file_extension": ".py",
   "mimetype": "text/x-python",
   "name": "python",
   "nbconvert_exporter": "python",
   "pygments_lexer": "ipython3",
   "version": "3.11.4"
  }
 },
 "nbformat": 4,
 "nbformat_minor": 2
}
