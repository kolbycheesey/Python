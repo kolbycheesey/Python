{
 "cells": [
  {
   "cell_type": "code",
   "execution_count": 47,
   "metadata": {},
   "outputs": [],
   "source": [
    "import numpy as np\n",
    "import pyqtgraph as pg\n",
    "from PyQt6 import QtGui, QtCore\n",
    "from PyQt6.QtWidgets import QDockWidget, QWidget, QMainWindow\n",
    "import PyQt6"
   ]
  },
  {
   "cell_type": "code",
   "execution_count": 51,
   "metadata": {},
   "outputs": [
    {
     "name": "stdout",
     "output_type": "stream",
     "text": [
      "[[1. 0. 0.]\n",
      " [0. 1. 0.]\n",
      " [0. 0. 1.]]\n"
     ]
    }
   ],
   "source": [
    "image=np.eye(3)\n",
    "print(image)"
   ]
  },
  {
   "cell_type": "code",
   "execution_count": 52,
   "metadata": {},
   "outputs": [
    {
     "name": "stdout",
     "output_type": "stream",
     "text": [
      "<pyqtgraph.graphicsItems.PlotItem.PlotItem.PlotItem object at 0x000001C039BFD510>\n"
     ]
    }
   ],
   "source": [
    "win = pg.GraphicsLayoutWidget()\n",
    "plot1 = pg.PlotItem()\n",
    "img = pg.ImageItem( image, levels=(0,1) )\n",
    "tr = QtGui.QTransform()  # prepare ImageItem transformation:\n",
    "tr.scale(6.0, 3.0)       # scale horizontal and vertical axes\n",
    "tr.translate(-1.5, -1.5) # move 3x3 image to locate center at axis origin\n",
    "img.setTransform(tr)\n",
    "plot1.addItem( img )  # add ImageItem to PlotItem\n",
    "plot1.showAxes(True)  # frame it with a full set of axes\n",
    "plot1.invertY(True)   # vertical axis counts top to bottom\n",
    "print(plot1)"
   ]
  },
  {
   "cell_type": "code",
   "execution_count": 58,
   "metadata": {},
   "outputs": [
    {
     "ename": "RuntimeError",
     "evalue": "wrapped C/C++ object of type ImageItem has been deleted",
     "output_type": "error",
     "traceback": [
      "\u001b[1;31m---------------------------------------------------------------------------\u001b[0m",
      "\u001b[1;31mRuntimeError\u001b[0m                              Traceback (most recent call last)",
      "Cell \u001b[1;32mIn[58], line 3\u001b[0m\n\u001b[0;32m      1\u001b[0m main \u001b[38;5;241m=\u001b[39m QMainWindow()\n\u001b[0;32m      2\u001b[0m win \u001b[38;5;241m=\u001b[39m pg\u001b[38;5;241m.\u001b[39mGraphicsView()\n\u001b[1;32m----> 3\u001b[0m \u001b[43mwin\u001b[49m\u001b[38;5;241;43m.\u001b[39;49m\u001b[43msetCentralItem\u001b[49m\u001b[43m(\u001b[49m\u001b[43mimg\u001b[49m\u001b[43m)\u001b[49m\n\u001b[0;32m      4\u001b[0m \u001b[38;5;66;03m#win.show()\u001b[39;00m\n\u001b[0;32m      5\u001b[0m \u001b[38;5;66;03m#widget = pg.PlotWidget()\u001b[39;00m\n\u001b[0;32m      6\u001b[0m \u001b[38;5;66;03m#widget.addItem(img)\u001b[39;00m\n\u001b[0;32m      7\u001b[0m \u001b[38;5;66;03m#main = QDockWidget(\"Testing Window\")\u001b[39;00m\n\u001b[0;32m      8\u001b[0m \u001b[38;5;66;03m#popwidget = QWidget()\u001b[39;00m\n\u001b[0;32m      9\u001b[0m \u001b[38;5;66;03m#popwidget.setLayou\u001b[39;00m\n\u001b[0;32m     10\u001b[0m main\u001b[38;5;241m.\u001b[39msetCentralWidget(win)\n",
      "File \u001b[1;32mc:\\Users\\mkolb\\AppData\\Local\\Programs\\Python\\Python311\\Lib\\site-packages\\pyqtgraph\\widgets\\GraphicsView.py:171\u001b[0m, in \u001b[0;36mGraphicsView.setCentralItem\u001b[1;34m(self, item)\u001b[0m\n\u001b[0;32m    170\u001b[0m \u001b[38;5;28;01mdef\u001b[39;00m \u001b[38;5;21msetCentralItem\u001b[39m(\u001b[38;5;28mself\u001b[39m, item):\n\u001b[1;32m--> 171\u001b[0m     \u001b[38;5;28;01mreturn\u001b[39;00m \u001b[38;5;28;43mself\u001b[39;49m\u001b[38;5;241;43m.\u001b[39;49m\u001b[43msetCentralWidget\u001b[49m\u001b[43m(\u001b[49m\u001b[43mitem\u001b[49m\u001b[43m)\u001b[49m\n",
      "File \u001b[1;32mc:\\Users\\mkolb\\AppData\\Local\\Programs\\Python\\Python311\\Lib\\site-packages\\pyqtgraph\\widgets\\GraphicsView.py:180\u001b[0m, in \u001b[0;36mGraphicsView.setCentralWidget\u001b[1;34m(self, item)\u001b[0m\n\u001b[0;32m    178\u001b[0m \u001b[38;5;28mself\u001b[39m\u001b[38;5;241m.\u001b[39mcentralWidget \u001b[38;5;241m=\u001b[39m item\n\u001b[0;32m    179\u001b[0m \u001b[38;5;28;01mif\u001b[39;00m item \u001b[38;5;129;01mis\u001b[39;00m \u001b[38;5;129;01mnot\u001b[39;00m \u001b[38;5;28;01mNone\u001b[39;00m:\n\u001b[1;32m--> 180\u001b[0m     \u001b[38;5;28;43mself\u001b[39;49m\u001b[38;5;241;43m.\u001b[39;49m\u001b[43msceneObj\u001b[49m\u001b[38;5;241;43m.\u001b[39;49m\u001b[43maddItem\u001b[49m\u001b[43m(\u001b[49m\u001b[43mitem\u001b[49m\u001b[43m)\u001b[49m\n\u001b[0;32m    181\u001b[0m     \u001b[38;5;28mself\u001b[39m\u001b[38;5;241m.\u001b[39mresizeEvent(\u001b[38;5;28;01mNone\u001b[39;00m)\n",
      "File \u001b[1;32mc:\\Users\\mkolb\\AppData\\Local\\Programs\\Python\\Python311\\Lib\\site-packages\\pyqtgraph\\GraphicsScene\\GraphicsScene.py:391\u001b[0m, in \u001b[0;36mGraphicsScene.addItem\u001b[1;34m(self, item)\u001b[0m\n\u001b[0;32m    389\u001b[0m \u001b[38;5;28;01mdef\u001b[39;00m \u001b[38;5;21maddItem\u001b[39m(\u001b[38;5;28mself\u001b[39m, item):\n\u001b[0;32m    390\u001b[0m     \u001b[38;5;66;03m# extend QGraphicsScene.addItem to emit a sigItemAdded signal\u001b[39;00m\n\u001b[1;32m--> 391\u001b[0m     ret \u001b[38;5;241m=\u001b[39m \u001b[43mQtWidgets\u001b[49m\u001b[38;5;241;43m.\u001b[39;49m\u001b[43mQGraphicsScene\u001b[49m\u001b[38;5;241;43m.\u001b[39;49m\u001b[43maddItem\u001b[49m\u001b[43m(\u001b[49m\u001b[38;5;28;43mself\u001b[39;49m\u001b[43m,\u001b[49m\u001b[43m \u001b[49m\u001b[43mitem\u001b[49m\u001b[43m)\u001b[49m\n\u001b[0;32m    392\u001b[0m     \u001b[38;5;28mself\u001b[39m\u001b[38;5;241m.\u001b[39msigItemAdded\u001b[38;5;241m.\u001b[39memit(item)\n\u001b[0;32m    393\u001b[0m     \u001b[38;5;28;01mreturn\u001b[39;00m ret\n",
      "\u001b[1;31mRuntimeError\u001b[0m: wrapped C/C++ object of type ImageItem has been deleted"
     ]
    }
   ],
   "source": [
    "main = QMainWindow()\n",
    "win = pg.GraphicsView()\n",
    "win.setCentralItem(img)\n",
    "#win.show()\n",
    "#widget = pg.PlotWidget()\n",
    "#widget.addItem(img)\n",
    "#main = QDockWidget(\"Testing Window\")\n",
    "#popwidget = QWidget()\n",
    "#popwidget.setLayou\n",
    "main.setCentralWidget(win)\n",
    "main.show()"
   ]
  }
 ],
 "metadata": {
  "kernelspec": {
   "display_name": "Python 3",
   "language": "python",
   "name": "python3"
  },
  "language_info": {
   "codemirror_mode": {
    "name": "ipython",
    "version": 3
   },
   "file_extension": ".py",
   "mimetype": "text/x-python",
   "name": "python",
   "nbconvert_exporter": "python",
   "pygments_lexer": "ipython3",
   "version": "3.11.4"
  }
 },
 "nbformat": 4,
 "nbformat_minor": 2
}
