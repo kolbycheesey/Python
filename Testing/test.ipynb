{
 "cells": [
  {
   "cell_type": "code",
   "execution_count": 6,
   "metadata": {},
   "outputs": [],
   "source": [
    "import numpy as np\n",
    "import pyqtgraph as pg\n",
    "from PyQt6 import QtGui, QtCore\n",
    "from PyQt6.QtWidgets import QDockWidget, QWidget, QMainWindow\n",
    "from PyQt6.QtCore import QPointF\n",
    "import PyQt6"
   ]
  },
  {
   "cell_type": "code",
   "execution_count": 51,
   "metadata": {},
   "outputs": [
    {
     "name": "stdout",
     "output_type": "stream",
     "text": [
      "[[1. 0. 0.]\n",
      " [0. 1. 0.]\n",
      " [0. 0. 1.]]\n"
     ]
    }
   ],
   "source": [
    "image=np.eye(3)\n",
    "print(image)"
   ]
  },
  {
   "cell_type": "code",
   "execution_count": 52,
   "metadata": {},
   "outputs": [
    {
     "name": "stdout",
     "output_type": "stream",
     "text": [
      "<pyqtgraph.graphicsItems.PlotItem.PlotItem.PlotItem object at 0x000001C039BFD510>\n"
     ]
    }
   ],
   "source": [
    "win = pg.GraphicsLayoutWidget()\n",
    "plot1 = pg.PlotItem()\n",
    "img = pg.ImageItem( image, levels=(0,1) )\n",
    "tr = QtGui.QTransform()  # prepare ImageItem transformation:\n",
    "tr.scale(6.0, 3.0)       # scale horizontal and vertical axes\n",
    "tr.translate(-1.5, -1.5) # move 3x3 image to locate center at axis origin\n",
    "img.setTransform(tr)\n",
    "plot1.addItem( img )  # add ImageItem to PlotItem\n",
    "plot1.showAxes(True)  # frame it with a full set of axes\n",
    "plot1.invertY(True)   # vertical axis counts top to bottom\n",
    "print(plot1)"
   ]
  },
  {
   "cell_type": "code",
   "execution_count": 58,
   "metadata": {},
   "outputs": [
    {
     "ename": "RuntimeError",
     "evalue": "wrapped C/C++ object of type ImageItem has been deleted",
     "output_type": "error",
     "traceback": [
      "\u001b[1;31m---------------------------------------------------------------------------\u001b[0m",
      "\u001b[1;31mRuntimeError\u001b[0m                              Traceback (most recent call last)",
      "Cell \u001b[1;32mIn[58], line 3\u001b[0m\n\u001b[0;32m      1\u001b[0m main \u001b[38;5;241m=\u001b[39m QMainWindow()\n\u001b[0;32m      2\u001b[0m win \u001b[38;5;241m=\u001b[39m pg\u001b[38;5;241m.\u001b[39mGraphicsView()\n\u001b[1;32m----> 3\u001b[0m \u001b[43mwin\u001b[49m\u001b[38;5;241;43m.\u001b[39;49m\u001b[43msetCentralItem\u001b[49m\u001b[43m(\u001b[49m\u001b[43mimg\u001b[49m\u001b[43m)\u001b[49m\n\u001b[0;32m      4\u001b[0m \u001b[38;5;66;03m#win.show()\u001b[39;00m\n\u001b[0;32m      5\u001b[0m \u001b[38;5;66;03m#widget = pg.PlotWidget()\u001b[39;00m\n\u001b[0;32m      6\u001b[0m \u001b[38;5;66;03m#widget.addItem(img)\u001b[39;00m\n\u001b[0;32m      7\u001b[0m \u001b[38;5;66;03m#main = QDockWidget(\"Testing Window\")\u001b[39;00m\n\u001b[0;32m      8\u001b[0m \u001b[38;5;66;03m#popwidget = QWidget()\u001b[39;00m\n\u001b[0;32m      9\u001b[0m \u001b[38;5;66;03m#popwidget.setLayou\u001b[39;00m\n\u001b[0;32m     10\u001b[0m main\u001b[38;5;241m.\u001b[39msetCentralWidget(win)\n",
      "File \u001b[1;32mc:\\Users\\mkolb\\AppData\\Local\\Programs\\Python\\Python311\\Lib\\site-packages\\pyqtgraph\\widgets\\GraphicsView.py:171\u001b[0m, in \u001b[0;36mGraphicsView.setCentralItem\u001b[1;34m(self, item)\u001b[0m\n\u001b[0;32m    170\u001b[0m \u001b[38;5;28;01mdef\u001b[39;00m \u001b[38;5;21msetCentralItem\u001b[39m(\u001b[38;5;28mself\u001b[39m, item):\n\u001b[1;32m--> 171\u001b[0m     \u001b[38;5;28;01mreturn\u001b[39;00m \u001b[38;5;28;43mself\u001b[39;49m\u001b[38;5;241;43m.\u001b[39;49m\u001b[43msetCentralWidget\u001b[49m\u001b[43m(\u001b[49m\u001b[43mitem\u001b[49m\u001b[43m)\u001b[49m\n",
      "File \u001b[1;32mc:\\Users\\mkolb\\AppData\\Local\\Programs\\Python\\Python311\\Lib\\site-packages\\pyqtgraph\\widgets\\GraphicsView.py:180\u001b[0m, in \u001b[0;36mGraphicsView.setCentralWidget\u001b[1;34m(self, item)\u001b[0m\n\u001b[0;32m    178\u001b[0m \u001b[38;5;28mself\u001b[39m\u001b[38;5;241m.\u001b[39mcentralWidget \u001b[38;5;241m=\u001b[39m item\n\u001b[0;32m    179\u001b[0m \u001b[38;5;28;01mif\u001b[39;00m item \u001b[38;5;129;01mis\u001b[39;00m \u001b[38;5;129;01mnot\u001b[39;00m \u001b[38;5;28;01mNone\u001b[39;00m:\n\u001b[1;32m--> 180\u001b[0m     \u001b[38;5;28;43mself\u001b[39;49m\u001b[38;5;241;43m.\u001b[39;49m\u001b[43msceneObj\u001b[49m\u001b[38;5;241;43m.\u001b[39;49m\u001b[43maddItem\u001b[49m\u001b[43m(\u001b[49m\u001b[43mitem\u001b[49m\u001b[43m)\u001b[49m\n\u001b[0;32m    181\u001b[0m     \u001b[38;5;28mself\u001b[39m\u001b[38;5;241m.\u001b[39mresizeEvent(\u001b[38;5;28;01mNone\u001b[39;00m)\n",
      "File \u001b[1;32mc:\\Users\\mkolb\\AppData\\Local\\Programs\\Python\\Python311\\Lib\\site-packages\\pyqtgraph\\GraphicsScene\\GraphicsScene.py:391\u001b[0m, in \u001b[0;36mGraphicsScene.addItem\u001b[1;34m(self, item)\u001b[0m\n\u001b[0;32m    389\u001b[0m \u001b[38;5;28;01mdef\u001b[39;00m \u001b[38;5;21maddItem\u001b[39m(\u001b[38;5;28mself\u001b[39m, item):\n\u001b[0;32m    390\u001b[0m     \u001b[38;5;66;03m# extend QGraphicsScene.addItem to emit a sigItemAdded signal\u001b[39;00m\n\u001b[1;32m--> 391\u001b[0m     ret \u001b[38;5;241m=\u001b[39m \u001b[43mQtWidgets\u001b[49m\u001b[38;5;241;43m.\u001b[39;49m\u001b[43mQGraphicsScene\u001b[49m\u001b[38;5;241;43m.\u001b[39;49m\u001b[43maddItem\u001b[49m\u001b[43m(\u001b[49m\u001b[38;5;28;43mself\u001b[39;49m\u001b[43m,\u001b[49m\u001b[43m \u001b[49m\u001b[43mitem\u001b[49m\u001b[43m)\u001b[49m\n\u001b[0;32m    392\u001b[0m     \u001b[38;5;28mself\u001b[39m\u001b[38;5;241m.\u001b[39msigItemAdded\u001b[38;5;241m.\u001b[39memit(item)\n\u001b[0;32m    393\u001b[0m     \u001b[38;5;28;01mreturn\u001b[39;00m ret\n",
      "\u001b[1;31mRuntimeError\u001b[0m: wrapped C/C++ object of type ImageItem has been deleted"
     ]
    }
   ],
   "source": [
    "main = QMainWindow()\n",
    "win = pg.GraphicsView()\n",
    "win.setCentralItem(img)\n",
    "#win.show()\n",
    "#widget = pg.PlotWidget()\n",
    "#widget.addItem(img)\n",
    "#main = QDockWidget(\"Testing Window\")\n",
    "#popwidget = QWidget()\n",
    "#popwidget.setLayou\n",
    "main.setCentralWidget(win)\n",
    "main.show()"
   ]
  },
  {
   "cell_type": "code",
   "execution_count": 9,
   "metadata": {},
   "outputs": [
    {
     "name": "stdout",
     "output_type": "stream",
     "text": [
      "0.05638842\n",
      "PyQt6.QtCore.QPointF(0.05638842, 0.01019244)\n",
      "0.05638842\n",
      "0.01019244\n"
     ]
    }
   ],
   "source": [
    "point = {'pos': ([0.05638842, 0.01019244])}\n",
    "print(point['pos'][0])\n",
    "q = QPointF()\n",
    "q.setX(point['pos'][0])\n",
    "q.setY(point['pos'][1])\n",
    "print(q)\n",
    "print(q.x())\n",
    "print(q.y())"
   ]
  },
  {
   "cell_type": "code",
   "execution_count": null,
   "metadata": {},
   "outputs": [],
   "source": [
    "data = []\n",
    "data.append({})\n",
    "\n",
    "for i in range(2):\n",
    "    for n, key in enumerate(sorted(data[i].keys)):\n",
    "        for m, item in enumerate(data[i][key]):\n",
    "            print()"
   ]
  },
  {
   "cell_type": "code",
   "execution_count": 18,
   "metadata": {},
   "outputs": [
    {
     "data": {
      "text/plain": [
       "0"
      ]
     },
     "execution_count": 18,
     "metadata": {},
     "output_type": "execute_result"
    }
   ],
   "source": [
    "import pyqtgraph as pg\n",
    "from pyqtgraph.graphicsItems import ROI\n",
    "\n",
    "pg.mkQApp()\n",
    "\n",
    "plot = pg.PlotWidget()\n",
    "# moving_item = pg.TextItem(\"Moving\", anchor=(0.5, 0.5))\n",
    "moving_item = pg.TextItem(\"Moving\")\n",
    "still_item = pg.TextItem(\"Still\", anchor=(0.5, 0.5))\n",
    "\n",
    "still_item.setFlag(still_item.GraphicsItemFlag.ItemIgnoresTransformations)\n",
    "# ^^^ This line is necessary\n",
    "\n",
    "roi_item = ROI.RectROI(pos=[0,0], size=0.5, pen=(255,255,255))\n",
    "# roi_item.setZValue(20)\n",
    "\n",
    "plot.addItem(roi_item)\n",
    "roi_item.show()\n",
    "\n",
    "moving_item.setParentItem(roi_item)\n",
    "# plot.addItem(moving_item, ignoreBounds=True)\n",
    "# Use this instead of `plot.addItem`\n",
    "still_item.setParentItem(plot.plotItem)\n",
    "\n",
    "# This position will be in pixels, not scene coordinates since transforms are ignored.\n",
    "# You can use helpers like `mapFromScene()` etc. to translate between pixels\n",
    "# and viewbox coordinates\n",
    "still_item.setPos(300, 300)\n",
    "\n",
    "plot.show()\n",
    "\n",
    "pg.exec()"
   ]
  },
  {
   "cell_type": "code",
   "execution_count": null,
   "metadata": {},
   "outputs": [],
   "source": [
    "\"\"\"\n",
    "def contextMenuEvent(self, event):\n",
    "    self.menu = QtGui.QMenu(self)\n",
    "    renameAction = QtGui.QAction('Rename', self)\n",
    "    renameAction.triggered.connect(lambda: self.renameSlot(event))\n",
    "    self.menu.addAction(renameAction)\n",
    "    # add other required actions\n",
    "    self.menu.popup(QtGui.QCursor.pos())\n",
    "    ...\n",
    "\n",
    "def renameSlot(self, event):\n",
    "    print \"renaming slot called\"\n",
    "    # get the selected row and column\n",
    "    row = self.tableWidget.rowAt(event.pos().y())\n",
    "    col = self.tableWidget.columnAt(event.pos().x())\n",
    "    # get the selected cell\n",
    "    cell = self.tableWidget.item(row, col)\n",
    "    # get the text inside selected cell (if any)\n",
    "    cellText = cell.text()\n",
    "    # get the widget inside selected cell (if any)\n",
    "    widget = self.tableWidget.cellWidget(row, col)\n",
    "\"\"\""
   ]
  },
  {
   "cell_type": "code",
   "execution_count": 1,
   "metadata": {},
   "outputs": [
    {
     "name": "stdout",
     "output_type": "stream",
     "text": [
      "Requirement already satisfied: qtwidgets in c:\\users\\mkolb\\appdata\\local\\programs\\python\\python311\\lib\\site-packages (1.1)\n",
      "Requirement already satisfied: markdown in c:\\users\\mkolb\\appdata\\local\\programs\\python\\python311\\lib\\site-packages (from qtwidgets) (3.6)\n",
      "Note: you may need to restart the kernel to use updated packages.\n"
     ]
    },
    {
     "name": "stderr",
     "output_type": "stream",
     "text": [
      "\n",
      "[notice] A new release of pip is available: 23.2.1 -> 24.0\n",
      "[notice] To update, run: python.exe -m pip install --upgrade pip\n"
     ]
    }
   ],
   "source": [
    "pip install qtwidgets"
   ]
  },
  {
   "cell_type": "markdown",
   "metadata": {},
   "source": [
    "https://www.pythonguis.com/widgets/equalizerbar/ \\\n",
    "https://www.pythonguis.com/tutorials/plotting-matplotlib/ \\\n",
    "https://stackoverflow.com/questions/22874583/display-a-2d-histogram-in-pyqtgraph-with-correct-axes \\\n",
    "https://stackoverflow.com/questions/27156381/python-creating-a-2d-histogram-from-a-numpy-matrix"
   ]
  },
  {
   "cell_type": "code",
   "execution_count": 4,
   "metadata": {},
   "outputs": [
    {
     "data": {
      "text/plain": [
       "Text(0, 0.5, 'Counts')"
      ]
     },
     "execution_count": 4,
     "metadata": {},
     "output_type": "execute_result"
    },
    {
     "data": {
      "image/png": "[encoded data removed]",
      "text/plain": [
       "<Figure size 640x480 with 1 Axes>"
      ]
     },
     "metadata": {},
     "output_type": "display_data"
    },
    {
     "data": {
      "image/png": "[encoded data removed]",
      "text/plain": [
       "<Figure size 640x480 with 2 Axes>"
      ]
     },
     "metadata": {},
     "output_type": "display_data"
    }
   ],
   "source": [
    "import sys\n",
    "import numpy as np\n",
    "import matplotlib.pyplot as plt\n",
    "from time import sleep\n",
    "\n",
    "np.set_printoptions(threshold=sys.maxsize)\n",
    "\n",
    "# Create some random numbers\n",
    "n = 100000\n",
    "x = np.random.randn(n)\n",
    "y = (1.5 * x) + np.random.randn(n)\n",
    " \n",
    "# Plot data\n",
    "fig1 = plt.figure()\n",
    "plt.plot(x,y,'.r')\n",
    "plt.xlabel('x')\n",
    "plt.ylabel('y')\n",
    "\n",
    "# Estimate the 2D histogram\n",
    "nbins = 200\n",
    "H, xedges, yedges = np.histogram2d(x,y,bins=nbins)\n",
    " \n",
    "# H needs to be rotated and flipped\n",
    "H = np.rot90(H)\n",
    "H = np.flipud(H)\n",
    "# print(f\"H: {H}\")\n",
    " \n",
    "# Mask zeros\n",
    "Hmasked = np.ma.masked_where(H==0,H) # Mask pixels with a value of zero\n",
    "# print(f\"Hmasked: {Hmasked}\")\n",
    " \n",
    "# Plot 2D histogram using pcolor\n",
    "fig2 = plt.figure()\n",
    "plt.pcolormesh(xedges,yedges,Hmasked,cmap='jet')\n",
    "plt.xlabel('x')\n",
    "plt.ylabel('y')\n",
    "cbar = plt.colorbar()\n",
    "cbar.ax.set_ylabel('Counts')"
   ]
  },
  {
   "cell_type": "code",
   "execution_count": 1,
   "metadata": {},
   "outputs": [
    {
     "data": {
      "text/plain": [
       "0"
      ]
     },
     "execution_count": 1,
     "metadata": {},
     "output_type": "execute_result"
    }
   ],
   "source": [
    "import sys\n",
    "import random\n",
    "import matplotlib\n",
    "import PyQt6\n",
    "matplotlib.use('QtAgg')\n",
    "\n",
    "from PyQt6 import QtCore, QtWidgets\n",
    "\n",
    "from matplotlib.backends.backend_qt5agg import FigureCanvasQTAgg as FigureCanvas\n",
    "from matplotlib.figure import Figure\n",
    "\n",
    "class MplCanvas(FigureCanvas):\n",
    "\n",
    "    def __init__(self, parent=None, width=5, height=4, dpi=100):\n",
    "        fig = Figure(figsize=(width, height), dpi=dpi)\n",
    "        self.axes = fig.add_subplot(111)\n",
    "        super(MplCanvas, self).__init__(fig)\n",
    "\n",
    "class MainWindow(QtWidgets.QMainWindow):\n",
    "\n",
    "    def __init__(self, *args, **kwargs):\n",
    "        super(MainWindow, self).__init__(*args, **kwargs)\n",
    "\n",
    "        self.canvas = MplCanvas(self, width=5, height=4, dpi=100)\n",
    "        self.setCentralWidget(self.canvas)\n",
    "\n",
    "        n_data = 50\n",
    "        self.xdata = list(range(n_data))\n",
    "        self.ydata = [random.randint(0, 10) for i in range(n_data)]\n",
    "\n",
    "        # We need to store a reference to the plotted line\n",
    "        # somewhere, so we can apply the new data to it.\n",
    "        self._plot_ref = None\n",
    "        self.update_plot()\n",
    "\n",
    "        self.show()\n",
    "\n",
    "        # Setup a timer to trigger the redraw by calling update_plot.\n",
    "        self.timer = QtCore.QTimer()\n",
    "        self.timer.setInterval(100)\n",
    "        self.timer.timeout.connect(self.update_plot)\n",
    "        self.timer.start()\n",
    "\n",
    "    def update_plot(self):\n",
    "        # Drop off the first y element, append a new one.\n",
    "        self.ydata = self.ydata[1:] + [random.randint(0, 10)]\n",
    "\n",
    "        # Note: we no longer need to clear the axis.\n",
    "        if self._plot_ref is None:\n",
    "            # First time we have no plot reference, so do a normal plot.\n",
    "            # .plot returns a list of line <reference>s, as we're\n",
    "            # only getting one we can take the first element.\n",
    "            plot_refs = self.canvas.axes.plot(self.xdata, self.ydata, 'r')\n",
    "            self._plot_ref = plot_refs[0]\n",
    "        else:\n",
    "            # We have a reference, we can use it to update the data for that line.\n",
    "            self._plot_ref.set_ydata(self.ydata)\n",
    "\n",
    "        # Trigger the canvas to update and redraw.\n",
    "        self.canvas.draw()\n",
    "        \n",
    "app = QtWidgets.QApplication(sys.argv)\n",
    "w = MainWindow()\n",
    "app.exec()"
   ]
  },
  {
   "cell_type": "code",
   "execution_count": 2,
   "metadata": {},
   "outputs": [
    {
     "name": "stdout",
     "output_type": "stream",
     "text": [
      "[[1. 0. 0.]\n",
      " [0. 1. 0.]\n",
      " [0. 0. 1.]]\n"
     ]
    }
   ],
   "source": [
    "# importing PyQt6\n",
    "import PyQt6\n",
    "from PyQt6 import QtGui, QtWidgets, QtCore\n",
    " \n",
    "# importing system\n",
    "import sys\n",
    " \n",
    "# importing numpy as np\n",
    "import numpy as np\n",
    " \n",
    "# importing pyqtgraph as pg\n",
    "import pyqtgraph as pg\n",
    "\n",
    "\n",
    "\n",
    "\n",
    "# Create some random numbers\n",
    "n = 100000\n",
    "x = np.random.randn(n)\n",
    "y = (1.5 * x) + np.random.randn(n)\n",
    "\n",
    "# Estimate the 2D histogram\n",
    "nbins = 200\n",
    "H, xedges, yedges = np.histogram2d(x,y,bins=nbins)\n",
    "\n",
    "# H needs to be rotated and flipped\n",
    "H = np.rot90(H)\n",
    "H = np.flipud(H)\n",
    "\n",
    "\n",
    "# plot = pg.PlotWidget()\n",
    "plot = pg.plot()\n",
    "plot.setBackground('w')\n",
    "plot.setXRange(0,nbins)\n",
    "plot.setYRange(0,nbins)\n",
    "# plot.setlimits(xMin=0,xMax=nbins,yMin=0,yMax=nbins)\n",
    "\n",
    "# tr = QtGui.QTransform()  # prepare ImageItem transformation:\n",
    "# tr.scale(6.0, 3.0)       # scale horizontal and vertical axes\n",
    "# tr.translate(-1.5, -1.5) # move 3x3 image to locate center at axis origin\n",
    "\n",
    "image = np.eye(3)\n",
    "print(image)\n",
    "\n",
    "img = pg.ImageItem( image, levels=(0,1) ) # create example image\n",
    "# img = pg.ImageItem(H, levels=[0,50])\n",
    "#need to set a color map that is probably about 500 colors long at least or set it so that at like 500 events it changes colors\n",
    "# img.setColorMap(pg.colormap.get('CET-L19'))\n",
    "# img.setLevels((0,255))\n",
    "# img = pg.ImageItem( image, levels=[[minR, maxR], [minG, maxG], [minB, maxB]] ) # create example image\n",
    "# img.setTransform(tr) # assign transform\n",
    "\n",
    "plot.addItem( img )  # add ImageItem to PlotItem\n",
    "plot.showAxes(True)  # frame it with a full set of axes\n",
    "plot.invertY(False)   # vertical axis counts top to bottom\n",
    "\n",
    "QtWidgets.QApplication.exec()\n",
    "\n"
   ]
  }
 ],
 "metadata": {
  "kernelspec": {
   "display_name": "Python 3",
   "language": "python",
   "name": "python3"
  },
  "language_info": {
   "codemirror_mode": {
    "name": "ipython",
    "version": 3
   },
   "file_extension": ".py",
   "mimetype": "text/x-python",
   "name": "python",
   "nbconvert_exporter": "python",
   "pygments_lexer": "ipython3",
   "version": "3.11.4"
  }
 },
 "nbformat": 4,
 "nbformat_minor": 2
}
